{
 "cells": [
  {
   "cell_type": "code",
   "execution_count": 1,
   "metadata": {},
   "outputs": [],
   "source": [
    "import pandas as pd\n",
    "import numpy as np\n",
    "import matplotlib.pyplot as plt\n",
    "import json\n",
    "from random import sample\n",
    "from time import process_time"
   ]
  },
  {
   "cell_type": "code",
   "execution_count": 2,
   "metadata": {},
   "outputs": [],
   "source": [
    "# load in raw dataset\n",
    "DATA = pd.read_csv('ratings.csv')\n",
    "N = DATA.shape[0]"
   ]
  },
  {
   "cell_type": "code",
   "execution_count": 3,
   "metadata": {},
   "outputs": [],
   "source": [
    "# split row indexes into K=5 subsets of equal size\n",
    "K = 5\n",
    "Subsets = dict()   # dictionary: subset ID --> a subset of row indexes\n",
    "pool = [i for i in range(N)]\n",
    "for subset_ID in range(K-1):\n",
    "    Subsets[subset_ID] = sample(pool, int(N/K))  # each subset of row indexes is a list\n",
    "    pool = [i for i in pool if not i in Subsets[subset_ID]]\n",
    "Subsets[K-1] = pool"
   ]
  },
  {
   "cell_type": "markdown",
   "metadata": {},
   "source": [
    "# Naive Approaches"
   ]
  },
  {
   "cell_type": "code",
   "execution_count": 4,
   "metadata": {},
   "outputs": [],
   "source": [
    "def RMSE(v1, v2):\n",
    "    v1 = np.array(v1)\n",
    "    v2 = np.array(v2)\n",
    "    return(np.sqrt(np.mean((v1-v2)**2)))\n",
    "\n",
    "def Naive_A(TRAIN, TEST):    # predict by overall average rating\n",
    "    Rating_overall = np.mean(TRAIN.rating)\n",
    "    RMSE_train = RMSE([Rating_overall] * TRAIN.shape[0], TRAIN.rating)\n",
    "    RMSE_test = RMSE([Rating_overall] * TEST.shape[0], TEST.rating)\n",
    "    return (RMSE_train,RMSE_test)"
   ]
  },
  {
   "cell_type": "code",
   "execution_count": 5,
   "metadata": {},
   "outputs": [],
   "source": [
    "def Naive_B(TRAIN, TEST):   # predict by average rating per User ID\n",
    "    \n",
    "    alt = np.mean(TRAIN.rating) # alternative if user not in training set\n",
    "    \n",
    "    Rating_user = dict()\n",
    "    for ID in np.unique(TRAIN.userId):\n",
    "        data = TRAIN.loc[TRAIN.userId==ID]\n",
    "        Rating_user[ID] = np.mean(data.rating)\n",
    "        \n",
    "    RMSE_train = RMSE([Rating_user[ID] for ID in TRAIN.userId], TRAIN.rating)\n",
    "    RMSE_test = RMSE([Rating_user.get(ID,alt) for ID in TEST.userId], TEST.rating)\n",
    "    \n",
    "    return (RMSE_train, RMSE_test)"
   ]
  },
  {
   "cell_type": "code",
   "execution_count": 10,
   "metadata": {},
   "outputs": [],
   "source": [
    "def Naive_C(TRAIN, TEST): # predict by average rating per movie ID\n",
    "    \n",
    "    alt = np.mean(TRAIN.rating)  # alternative if movie not in training set\n",
    "    \n",
    "    Rating_movie = dict()\n",
    "    for index in np.unique(TRAIN.movieId):\n",
    "        data = TRAIN.loc[TRAIN.movieId==index]\n",
    "        Rating_movie[index] = np.mean(data.rating)\n",
    "        \n",
    "    RMSE_train = RMSE([Rating_movie[index] for index in TRAIN.movieId], TRAIN.rating)\n",
    "    RMSE_test = RMSE([Rating_movie.get(index,alt) for index in TEST.movieId], TEST.rating)\n",
    "    \n",
    "    return (RMSE_train, RMSE_test)"
   ]
  },
  {
   "cell_type": "code",
   "execution_count": 7,
   "metadata": {},
   "outputs": [],
   "source": [
    "def Naive_D(TRAIN, TEST): # predict by combined average rating\n",
    "    \n",
    "    alt = np.mean(TRAIN.rating) # alternative if user not in training set\n",
    "    \n",
    "    Rating_user = dict()   # average rating per user ID\n",
    "    for ID in np.unique(TRAIN.userId):\n",
    "        data = TRAIN.loc[TRAIN.userId==ID]\n",
    "        Rating_user[ID] = np.mean(data.rating)\n",
    "        \n",
    "    Rating_movie = dict()  # average rating per movie ID\n",
    "    for index in np.unique(TRAIN.movieId):\n",
    "        data = TRAIN.loc[TRAIN.movieId==index]\n",
    "        Rating_movie[index] = np.mean(data.rating)\n",
    "        \n",
    "    # linear regression\n",
    "    A = [(Rating_user[u],Rating_movie[m]) for u,m in zip(TRAIN.userId,TRAIN.movieId)]\n",
    "    A = np.hstack((np.ones([len(A),1]), np.array(A)))\n",
    "    alpha,beta,gamma = np.linalg.lstsq(A, np.array(TRAIN.rating), rcond=None)[0]\n",
    "    coef = np.array([alpha,beta,gamma]).reshape([3,1])\n",
    "    \n",
    "    # compute RMSE\n",
    "    RMSE_train = RMSE(np.dot(A,coef).flatten() , TRAIN.rating)\n",
    "    B = [(Rating_user.get(u,alt),Rating_movie.get(m,Rating_user.get(u,alt))) for u,m in zip(TEST.userId,TEST.movieId)]\n",
    "    B = np.hstack((np.ones([len(B),1]), np.array(B)))\n",
    "    RMSE_test = RMSE(np.dot(B,coef).flatten() , TEST.rating)\n",
    "    \n",
    "    return (RMSE_train, RMSE_test)\n"
   ]
  },
  {
   "cell_type": "code",
   "execution_count": 11,
   "metadata": {},
   "outputs": [],
   "source": [
    "timing = list()\n",
    "\n",
    "NAIVE = dict()\n",
    "for k in range(K):\n",
    "    TEST = DATA.loc[Subsets[k],:]\n",
    "    TRAIN = DATA.loc[[i for i in range(N) if not i in Subsets[k]],:]\n",
    "    res = [Naive_A(TRAIN,TEST)]\n",
    "    res.append(Naive_B(TRAIN,TEST))\n",
    "    res.append(Naive_C(TRAIN,TEST))\n",
    "    stamp = process_time()\n",
    "    res.append(Naive_D(TRAIN,TEST))\n",
    "    timing.append(process_time()-stamp)\n",
    "    NAIVE[k] = res\n",
    "\n",
    "# save the results\n",
    "DF = pd.DataFrame(NAIVE, index=[\"Naive A\",\"Naive B\",\"Naive C\",\"Naive D\"]).transpose()\n",
    "DF.index = [\"k = \"+str(k) for k in range(K)]\n",
    "DF.to_csv(\"Naive_Performance.csv\")\n",
    "with open(\"timing.json\", \"w\") as fh:\n",
    "    json.dump(timing, fh, indent=2)"
   ]
  },
  {
   "cell_type": "code",
   "execution_count": 12,
   "metadata": {
    "scrolled": true
   },
   "outputs": [
    {
     "data": {
      "text/html": [
       "<div>\n",
       "<style scoped>\n",
       "    .dataframe tbody tr th:only-of-type {\n",
       "        vertical-align: middle;\n",
       "    }\n",
       "\n",
       "    .dataframe tbody tr th {\n",
       "        vertical-align: top;\n",
       "    }\n",
       "\n",
       "    .dataframe thead th {\n",
       "        text-align: right;\n",
       "    }\n",
       "</style>\n",
       "<table border=\"1\" class=\"dataframe\">\n",
       "  <thead>\n",
       "    <tr style=\"text-align: right;\">\n",
       "      <th></th>\n",
       "      <th>Naive A</th>\n",
       "      <th>Naive B</th>\n",
       "      <th>Naive C</th>\n",
       "      <th>Naive D</th>\n",
       "    </tr>\n",
       "  </thead>\n",
       "  <tbody>\n",
       "    <tr>\n",
       "      <th>k = 0</th>\n",
       "      <td>(1.0416, 1.0463)</td>\n",
       "      <td>(0.9339, 0.9416)</td>\n",
       "      <td>(0.8687, 0.9774)</td>\n",
       "      <td>(0.8018, 0.8871)</td>\n",
       "    </tr>\n",
       "    <tr>\n",
       "      <th>k = 1</th>\n",
       "      <td>(1.0448, 1.0334)</td>\n",
       "      <td>(0.9349, 0.9379)</td>\n",
       "      <td>(0.8713, 0.9694)</td>\n",
       "      <td>(0.8026, 0.8837)</td>\n",
       "    </tr>\n",
       "    <tr>\n",
       "      <th>k = 2</th>\n",
       "      <td>(1.0438, 1.0375)</td>\n",
       "      <td>(0.9349, 0.9375)</td>\n",
       "      <td>(0.8684, 0.9767)</td>\n",
       "      <td>(0.8012, 0.8899)</td>\n",
       "    </tr>\n",
       "    <tr>\n",
       "      <th>k = 3</th>\n",
       "      <td>(1.0408, 1.0493)</td>\n",
       "      <td>(0.9337, 0.9424)</td>\n",
       "      <td>(0.8683, 0.9782)</td>\n",
       "      <td>(0.8014, 0.8875)</td>\n",
       "    </tr>\n",
       "    <tr>\n",
       "      <th>k = 4</th>\n",
       "      <td>(1.0417, 1.0461)</td>\n",
       "      <td>(0.9326, 0.9468)</td>\n",
       "      <td>(0.8671, 0.9839)</td>\n",
       "      <td>(0.7995, 0.8974)</td>\n",
       "    </tr>\n",
       "  </tbody>\n",
       "</table>\n",
       "</div>"
      ],
      "text/plain": [
       "                Naive A           Naive B           Naive C           Naive D\n",
       "k = 0  (1.0416, 1.0463)  (0.9339, 0.9416)  (0.8687, 0.9774)  (0.8018, 0.8871)\n",
       "k = 1  (1.0448, 1.0334)  (0.9349, 0.9379)  (0.8713, 0.9694)  (0.8026, 0.8837)\n",
       "k = 2  (1.0438, 1.0375)  (0.9349, 0.9375)  (0.8684, 0.9767)  (0.8012, 0.8899)\n",
       "k = 3  (1.0408, 1.0493)  (0.9337, 0.9424)  (0.8683, 0.9782)  (0.8014, 0.8875)\n",
       "k = 4  (1.0417, 1.0461)  (0.9326, 0.9468)  (0.8671, 0.9839)  (0.7995, 0.8974)"
      ]
     },
     "execution_count": 12,
     "metadata": {},
     "output_type": "execute_result"
    }
   ],
   "source": [
    "DF.applymap(lambda a: tuple(round(b,4) for b in a))"
   ]
  },
  {
   "cell_type": "code",
   "execution_count": 15,
   "metadata": {},
   "outputs": [
    {
     "data": {
      "image/png": "[encoded data removed]",
      "text/plain": [
       "<Figure size 1080x360 with 1 Axes>"
      ]
     },
     "metadata": {
      "needs_background": "light"
     },
     "output_type": "display_data"
    }
   ],
   "source": [
    "fig,ax = plt.subplots(figsize=(15,5))\n",
    "\n",
    "for row in DF.index:\n",
    "    ax.plot(DF.columns, [a for a,b in DF.loc[row,]], 'b.', markersize=15, label=\"Train\" if row=='k = 0' else None)\n",
    "    ax.plot(DF.columns, [b for a,b in DF.loc[row,]], 'g+', markersize=15, label=\"Test\" if row=='k = 0' else None)\n",
    "\n",
    "for elements in ax.lines:    # add random noise to x-coordinates of points\n",
    "    xs = elements.get_xydata()[:, 0] \n",
    "    jittered_xs = xs + np.random.uniform(-0.3, 0.3, xs.shape)\n",
    "    elements.set_xdata(jittered_xs)\n",
    "ax.relim()\n",
    "ax.autoscale(enable=True)\n",
    "\n",
    "plt.xlabel(\"Naive Approaches\", fontsize=18)\n",
    "plt.ylabel(\"RMSE\", fontsize=18)\n",
    "plt.title(\"Compare 4 Naive Approaches\", fontsize=20)\n",
    "plt.legend(loc=\"upper right\", fontsize=16)\n",
    "plt.show()"
   ]
  },
  {
   "cell_type": "code",
   "execution_count": null,
   "metadata": {},
   "outputs": [],
   "source": []
  }
 ],
 "metadata": {
  "kernelspec": {
   "display_name": "Python 3",
   "language": "python",
   "name": "python3"
  },
  "language_info": {
   "codemirror_mode": {
    "name": "ipython",
    "version": 3
   },
   "file_extension": ".py",
   "mimetype": "text/x-python",
   "name": "python",
   "nbconvert_exporter": "python",
   "pygments_lexer": "ipython3",
   "version": "3.8.3rc1"
  }
 },
 "nbformat": 4,
 "nbformat_minor": 4
}
